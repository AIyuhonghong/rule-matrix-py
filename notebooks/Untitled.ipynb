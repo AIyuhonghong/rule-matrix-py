{
 "cells": [
  {
   "cell_type": "code",
   "execution_count": 1,
   "metadata": {},
   "outputs": [],
   "source": [
    "import rulematrix\n",
    "from rulematrix.surrogate import rule_surrogate\n",
    "from sklearn.neural_network import MLPClassifier\n",
    "from sklearn.preprocessing import OneHotEncoder\n",
    "from sklearn.pipeline import Pipeline\n",
    "\n",
    "from sklearn.model_selection import train_test_split\n",
    "from sklearn.datasets import load_breast_cancer, load_iris"
   ]
  },
  {
   "cell_type": "markdown",
   "metadata": {},
   "source": [
    "## Load Dataset\n",
    "\n",
    "First, we load a dataset.\n",
    "To make use of the visualization, it's better to provide feature names and target names.\n",
    "\n",
    "We partition the dataset into training and test set."
   ]
  },
  {
   "cell_type": "code",
   "execution_count": 2,
   "metadata": {},
   "outputs": [],
   "source": [
    "# Load dataset\n",
    "# dataset = load_iris()\n",
    "dataset = load_breast_cancer()\n",
    "\n",
    "# Feature Information\n",
    "is_continuous = dataset.get('is_continuous', None)\n",
    "is_categorical = dataset.get('is_categorical', None)\n",
    "is_integer = dataset.get('is_integer', None)\n",
    "feature_names = dataset.get('feature_names', None)\n",
    "target_names = dataset.get('target_names', None)\n",
    "\n",
    "# Split dataset into train and test\n",
    "train_x, test_x, train_y, test_y = \\\n",
    "    train_test_split(dataset['data'], dataset['target'], test_size=0.25, random_state=42)\n"
   ]
  },
  {
   "cell_type": "markdown",
   "metadata": {},
   "source": [
    "## Training a Neural Net"
   ]
  },
  {
   "cell_type": "code",
   "execution_count": 3,
   "metadata": {},
   "outputs": [
    {
     "name": "stdout",
     "output_type": "stream",
     "text": [
      "Training score: 0.8873239436619719\n",
      "Test score: 0.9300699300699301\n"
     ]
    }
   ],
   "source": [
    "def train_nn(neurons=(20,), **kwargs):\n",
    "    is_categorical = dataset.get('is_categorical', None)\n",
    "    model = MLPClassifier(hidden_layer_sizes=neurons, **kwargs)\n",
    "    if is_categorical is not None:\n",
    "        model = Pipeline([\n",
    "            ('one_hot', OneHotEncoder(categorical_features=is_categorical)),\n",
    "            ('mlp', model)\n",
    "        ])\n",
    "    model.fit(train_x, train_y)\n",
    "    train_score = model.score(train_x, train_y)\n",
    "    test_score = model.score(test_x, test_y)\n",
    "    print('Training score:', train_score)\n",
    "    print('Test score:', test_score)\n",
    "    return model\n",
    "\n",
    "\n",
    "nn = train_nn((20, 20))"
   ]
  },
  {
   "cell_type": "markdown",
   "metadata": {},
   "source": [
    "## Train Rule Surrogate\n",
    "\n",
    "Next we train the surrogate rulelist of the neural net, using default parameters, and render the RuleMatrix visualization."
   ]
  },
  {
   "cell_type": "code",
   "execution_count": null,
   "metadata": {},
   "outputs": [],
   "source": [
    "def train_surrogate(model, sampling_rate=2.0, **kwargs):\n",
    "    surrogate = rule_surrogate(model.predict, train_x, sampling_rate=sampling_rate,\n",
    "                               is_continuous=is_continuous,\n",
    "                               is_categorical=is_categorical,\n",
    "                               is_integer=is_integer,\n",
    "                               rlargs={'feature_names': feature_names, 'verbose': 2},\n",
    "                               **kwargs)\n",
    "\n",
    "    train_fidelity = surrogate.score(train_x)\n",
    "    test_fidelity = surrogate.score(test_x)\n",
    "    print('Training fidelity:', train_fidelity)\n",
    "    print('Test fidelity:', test_fidelity)\n",
    "    return surrogate\n",
    "\n",
    "surrogate = train_surrogate(nn, 4)\n",
    "rl = surrogate.student\n",
    "print(rl)"
   ]
  },
  {
   "cell_type": "code",
   "execution_count": null,
   "metadata": {},
   "outputs": [],
   "source": [
    "rulematrix.render(train_x, train_y, surrogate, \n",
    "       feature_names=feature_names, target_names=target_names, \n",
    "       is_categorical=is_categorical)"
   ]
  },
  {
   "cell_type": "code",
   "execution_count": null,
   "metadata": {},
   "outputs": [],
   "source": []
  }
 ],
 "metadata": {
  "kernelspec": {
   "display_name": "Python 3",
   "language": "python",
   "name": "python3"
  },
  "language_info": {
   "codemirror_mode": {
    "name": "ipython",
    "version": 3
   },
   "file_extension": ".py",
   "mimetype": "text/x-python",
   "name": "python",
   "nbconvert_exporter": "python",
   "pygments_lexer": "ipython3",
   "version": "3.6.5"
  }
 },
 "nbformat": 4,
 "nbformat_minor": 2
}
